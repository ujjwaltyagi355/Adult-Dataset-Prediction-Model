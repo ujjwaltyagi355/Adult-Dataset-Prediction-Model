{
  "nbformat": 4,
  "nbformat_minor": 0,
  "metadata": {
    "colab": {
      "name": "prediction.ipynb",
      "provenance": []
    },
    "kernelspec": {
      "name": "python3",
      "display_name": "Python 3"
    },
    "accelerator": "GPU"
  },
  "cells": [
    {
      "cell_type": "markdown",
      "metadata": {
        "id": "oyVf2nWjFkAs",
        "colab_type": "text"
      },
      "source": [
        "Importing required Libraries:"
      ]
    },
    {
      "cell_type": "code",
      "metadata": {
        "id": "5185j2joBu1I",
        "colab_type": "code",
        "colab": {}
      },
      "source": [
        "import numpy as np\n",
        "import pandas as pd\n",
        "import matplotlib.pyplot as plt\n",
        "from sklearn.preprocessing import LabelEncoder\n",
        "from sklearn.preprocessing import StandardScaler\n",
        "from sklearn.model_selection import train_test_split"
      ],
      "execution_count": 604,
      "outputs": []
    },
    {
      "cell_type": "markdown",
      "metadata": {
        "id": "gWSd66J7F0O-",
        "colab_type": "text"
      },
      "source": [
        "Coverting the .data file into .csv file."
      ]
    },
    {
      "cell_type": "code",
      "metadata": {
        "id": "h9nwrYcLrHOM",
        "colab_type": "code",
        "colab": {}
      },
      "source": [
        "read_file = pd.read_csv (r'/content/Dataset.data', delimiter=' ', header = None)\n",
        "read_file.columns = ['age','workclass','fnlwgt','education','education-num','marital-status','occupation','relationship','race','sex','capital-gain','capital-loss','hours-per-week','native-country','class']\n",
        "read_file.to_csv (r'/content/data.csv', index=None)"
      ],
      "execution_count": 605,
      "outputs": []
    },
    {
      "cell_type": "markdown",
      "metadata": {
        "id": "NuPkOODmF97j",
        "colab_type": "text"
      },
      "source": [
        "Reading the data from the dataset."
      ]
    },
    {
      "cell_type": "code",
      "metadata": {
        "id": "PHm7KVq3pk1C",
        "colab_type": "code",
        "colab": {}
      },
      "source": [
        "data=pd.read_csv('/content/data.csv')"
      ],
      "execution_count": 606,
      "outputs": []
    },
    {
      "cell_type": "markdown",
      "metadata": {
        "id": "_pKMBfOrGDvb",
        "colab_type": "text"
      },
      "source": [
        "Selecting the required features for the training."
      ]
    },
    {
      "cell_type": "code",
      "metadata": {
        "id": "f3HCr7dCp93V",
        "colab_type": "code",
        "colab": {
          "base_uri": "https://localhost:8080/",
          "height": 156
        },
        "outputId": "c9a4fdd0-9cb4-4fff-c1eb-bf099181c942"
      },
      "source": [
        "featurestouse=['age','workclass','education-num','occupation','marital-status','hours-per-week','race','sex','capital-gain','capital-loss','class']\n",
        "features=data[featurestouse]\n",
        "print(features.head())"
      ],
      "execution_count": 607,
      "outputs": [
        {
          "output_type": "stream",
          "text": [
            "   age  workclass  education-num  ... capital-gain capital-loss  class\n",
            "0   25    Private              7  ...            0            0  <=50K\n",
            "1   38    Private              9  ...            0            0  <=50K\n",
            "2   28  Local-gov             12  ...            0            0   >50K\n",
            "3   44    Private             10  ...         7688            0   >50K\n",
            "4   18          ?             10  ...            0            0  <=50K\n",
            "\n",
            "[5 rows x 11 columns]\n"
          ],
          "name": "stdout"
        }
      ]
    },
    {
      "cell_type": "markdown",
      "metadata": {
        "id": "HF9RRztgGLJA",
        "colab_type": "text"
      },
      "source": [
        "Removing all the rows where \"workclass\" is \"?\"."
      ]
    },
    {
      "cell_type": "code",
      "metadata": {
        "id": "SF7RVniqzt9n",
        "colab_type": "code",
        "colab": {
          "base_uri": "https://localhost:8080/",
          "height": 367
        },
        "outputId": "4eb6b4b6-f50b-43f0-8857-50c97cb4b5e7"
      },
      "source": [
        "indexNames = features[ features['workclass'] == '?' ].index\n",
        "# Delete these row indexes from dataFrame\n",
        "features.drop(indexNames , inplace=True)\n",
        "print(features)"
      ],
      "execution_count": 608,
      "outputs": [
        {
          "output_type": "stream",
          "text": [
            "       age     workclass  education-num  ... capital-gain capital-loss  class\n",
            "0       25       Private              7  ...            0            0  <=50K\n",
            "1       38       Private              9  ...            0            0  <=50K\n",
            "2       28     Local-gov             12  ...            0            0   >50K\n",
            "3       44       Private             10  ...         7688            0   >50K\n",
            "5       34       Private              6  ...            0            0  <=50K\n",
            "...    ...           ...            ...  ...          ...          ...    ...\n",
            "48837   27       Private             12  ...            0            0  <=50K\n",
            "48838   40       Private              9  ...            0            0   >50K\n",
            "48839   58       Private              9  ...            0            0  <=50K\n",
            "48840   22       Private              9  ...            0            0  <=50K\n",
            "48841   52  Self-emp-inc              9  ...        15024            0   >50K\n",
            "\n",
            "[46043 rows x 11 columns]\n"
          ],
          "name": "stdout"
        },
        {
          "output_type": "stream",
          "text": [
            "/usr/local/lib/python3.6/dist-packages/pandas/core/frame.py:3997: SettingWithCopyWarning: \n",
            "A value is trying to be set on a copy of a slice from a DataFrame\n",
            "\n",
            "See the caveats in the documentation: https://pandas.pydata.org/pandas-docs/stable/user_guide/indexing.html#returning-a-view-versus-a-copy\n",
            "  errors=errors,\n"
          ],
          "name": "stderr"
        }
      ]
    },
    {
      "cell_type": "markdown",
      "metadata": {
        "id": "u6S7lIxcGWwf",
        "colab_type": "text"
      },
      "source": [
        "Removing all the rows where \"occupation\" is \"?\"."
      ]
    },
    {
      "cell_type": "code",
      "metadata": {
        "id": "pfCeEsQN8Wp2",
        "colab_type": "code",
        "colab": {
          "base_uri": "https://localhost:8080/",
          "height": 367
        },
        "outputId": "65cd63ec-dd0c-45e3-ceca-3819b01ce054"
      },
      "source": [
        "indexNames = features[ features['occupation'] == '?' ].index\n",
        "# Delete these row indexes from dataFrame\n",
        "features.drop(indexNames , inplace=True)\n",
        "print(features)"
      ],
      "execution_count": 609,
      "outputs": [
        {
          "output_type": "stream",
          "text": [
            "       age     workclass  education-num  ... capital-gain capital-loss  class\n",
            "0       25       Private              7  ...            0            0  <=50K\n",
            "1       38       Private              9  ...            0            0  <=50K\n",
            "2       28     Local-gov             12  ...            0            0   >50K\n",
            "3       44       Private             10  ...         7688            0   >50K\n",
            "5       34       Private              6  ...            0            0  <=50K\n",
            "...    ...           ...            ...  ...          ...          ...    ...\n",
            "48837   27       Private             12  ...            0            0  <=50K\n",
            "48838   40       Private              9  ...            0            0   >50K\n",
            "48839   58       Private              9  ...            0            0  <=50K\n",
            "48840   22       Private              9  ...            0            0  <=50K\n",
            "48841   52  Self-emp-inc              9  ...        15024            0   >50K\n",
            "\n",
            "[46033 rows x 11 columns]\n"
          ],
          "name": "stdout"
        },
        {
          "output_type": "stream",
          "text": [
            "/usr/local/lib/python3.6/dist-packages/pandas/core/frame.py:3997: SettingWithCopyWarning: \n",
            "A value is trying to be set on a copy of a slice from a DataFrame\n",
            "\n",
            "See the caveats in the documentation: https://pandas.pydata.org/pandas-docs/stable/user_guide/indexing.html#returning-a-view-versus-a-copy\n",
            "  errors=errors,\n"
          ],
          "name": "stderr"
        }
      ]
    },
    {
      "cell_type": "markdown",
      "metadata": {
        "id": "uT6d6UIpGeUT",
        "colab_type": "text"
      },
      "source": [
        "Encoding all the enteries of the repective columns.\n",
        "This is done to have a reperesentation for the strings or numbers in the fields and a numerical value can be used for predictions."
      ]
    },
    {
      "cell_type": "code",
      "metadata": {
        "id": "CWAhp9bW9N0S",
        "colab_type": "code",
        "colab": {
          "base_uri": "https://localhost:8080/",
          "height": 349
        },
        "outputId": "df9f327a-34d8-4d1f-837c-dad053323faa"
      },
      "source": [
        "labelcoder = LabelEncoder()\n",
        "features[\"workclass\"] = labelcoder.fit_transform(features[\"workclass\"])\n",
        "print(features[\"workclass\"])"
      ],
      "execution_count": 610,
      "outputs": [
        {
          "output_type": "stream",
          "text": [
            "0        2\n",
            "1        2\n",
            "2        1\n",
            "3        2\n",
            "5        2\n",
            "        ..\n",
            "48837    2\n",
            "48838    2\n",
            "48839    2\n",
            "48840    2\n",
            "48841    3\n",
            "Name: workclass, Length: 46033, dtype: int64\n"
          ],
          "name": "stdout"
        },
        {
          "output_type": "stream",
          "text": [
            "/usr/local/lib/python3.6/dist-packages/ipykernel_launcher.py:2: SettingWithCopyWarning: \n",
            "A value is trying to be set on a copy of a slice from a DataFrame.\n",
            "Try using .loc[row_indexer,col_indexer] = value instead\n",
            "\n",
            "See the caveats in the documentation: https://pandas.pydata.org/pandas-docs/stable/user_guide/indexing.html#returning-a-view-versus-a-copy\n",
            "  \n"
          ],
          "name": "stderr"
        }
      ]
    },
    {
      "cell_type": "code",
      "metadata": {
        "id": "Z3zBEdcMCCJ1",
        "colab_type": "code",
        "colab": {
          "base_uri": "https://localhost:8080/",
          "height": 141
        },
        "outputId": "20d41e71-324f-4298-b85f-a506dd0d255f"
      },
      "source": [
        "labelcoder2 = LabelEncoder()\n",
        "features[\"occupation\"] = labelcoder2.fit_transform(features[\"occupation\"])"
      ],
      "execution_count": 611,
      "outputs": [
        {
          "output_type": "stream",
          "text": [
            "/usr/local/lib/python3.6/dist-packages/ipykernel_launcher.py:2: SettingWithCopyWarning: \n",
            "A value is trying to be set on a copy of a slice from a DataFrame.\n",
            "Try using .loc[row_indexer,col_indexer] = value instead\n",
            "\n",
            "See the caveats in the documentation: https://pandas.pydata.org/pandas-docs/stable/user_guide/indexing.html#returning-a-view-versus-a-copy\n",
            "  \n"
          ],
          "name": "stderr"
        }
      ]
    },
    {
      "cell_type": "code",
      "metadata": {
        "id": "rynjA12m3GoZ",
        "colab_type": "code",
        "colab": {
          "base_uri": "https://localhost:8080/",
          "height": 141
        },
        "outputId": "3725b632-5e80-472b-d3b5-1fcc8ddcdc05"
      },
      "source": [
        "labelcoder3 = LabelEncoder()\n",
        "features[\"race\"] = labelcoder3.fit_transform(features[\"race\"])"
      ],
      "execution_count": 612,
      "outputs": [
        {
          "output_type": "stream",
          "text": [
            "/usr/local/lib/python3.6/dist-packages/ipykernel_launcher.py:2: SettingWithCopyWarning: \n",
            "A value is trying to be set on a copy of a slice from a DataFrame.\n",
            "Try using .loc[row_indexer,col_indexer] = value instead\n",
            "\n",
            "See the caveats in the documentation: https://pandas.pydata.org/pandas-docs/stable/user_guide/indexing.html#returning-a-view-versus-a-copy\n",
            "  \n"
          ],
          "name": "stderr"
        }
      ]
    },
    {
      "cell_type": "code",
      "metadata": {
        "id": "tjWlibEb3IIN",
        "colab_type": "code",
        "colab": {
          "base_uri": "https://localhost:8080/",
          "height": 141
        },
        "outputId": "8d65b61a-b5e2-49d8-f45c-d83494336669"
      },
      "source": [
        "labelcoder4 = LabelEncoder()\n",
        "features[\"sex\"] = labelcoder4.fit_transform(features[\"sex\"])"
      ],
      "execution_count": 613,
      "outputs": [
        {
          "output_type": "stream",
          "text": [
            "/usr/local/lib/python3.6/dist-packages/ipykernel_launcher.py:2: SettingWithCopyWarning: \n",
            "A value is trying to be set on a copy of a slice from a DataFrame.\n",
            "Try using .loc[row_indexer,col_indexer] = value instead\n",
            "\n",
            "See the caveats in the documentation: https://pandas.pydata.org/pandas-docs/stable/user_guide/indexing.html#returning-a-view-versus-a-copy\n",
            "  \n"
          ],
          "name": "stderr"
        }
      ]
    },
    {
      "cell_type": "code",
      "metadata": {
        "id": "CPKjFsJK8hMg",
        "colab_type": "code",
        "colab": {
          "base_uri": "https://localhost:8080/",
          "height": 141
        },
        "outputId": "71343026-37f8-43d3-988b-139c3ec18443"
      },
      "source": [
        "\n",
        "labelcoder6 = LabelEncoder()\n",
        "features['marital-status'] = labelcoder6.fit_transform(features['marital-status'])"
      ],
      "execution_count": 614,
      "outputs": [
        {
          "output_type": "stream",
          "text": [
            "/usr/local/lib/python3.6/dist-packages/ipykernel_launcher.py:3: SettingWithCopyWarning: \n",
            "A value is trying to be set on a copy of a slice from a DataFrame.\n",
            "Try using .loc[row_indexer,col_indexer] = value instead\n",
            "\n",
            "See the caveats in the documentation: https://pandas.pydata.org/pandas-docs/stable/user_guide/indexing.html#returning-a-view-versus-a-copy\n",
            "  This is separate from the ipykernel package so we can avoid doing imports until\n"
          ],
          "name": "stderr"
        }
      ]
    },
    {
      "cell_type": "markdown",
      "metadata": {
        "id": "_ighgWIzGz-W",
        "colab_type": "text"
      },
      "source": [
        "Here, we have taken the class column into Y and for X we have taken the respective columns and then we have normalised all the values so that they fall in same range of values.\n",
        "This is done to somewhat equally distribute the influence of the variance on the model. Or else a variable with high value can easily influence the model than is lesser value variable."
      ]
    },
    {
      "cell_type": "code",
      "metadata": {
        "id": "D4FTaBjWC3KG",
        "colab_type": "code",
        "colab": {}
      },
      "source": [
        "scaler = StandardScaler()\n",
        "\n",
        "Y=features[['class']]\n",
        "X= scaler.fit_transform(features[['age','workclass','education-num','occupation','marital-status','hours-per-week','race','sex','capital-gain','capital-loss']])\n",
        "X = np.asarray(X).astype(np.float32)"
      ],
      "execution_count": 615,
      "outputs": []
    },
    {
      "cell_type": "markdown",
      "metadata": {
        "id": "qht7GnRQHZd2",
        "colab_type": "text"
      },
      "source": [
        "Here we have encoded the values in Y into 1 and 0 classes."
      ]
    },
    {
      "cell_type": "code",
      "metadata": {
        "id": "nroGr5yiDTZo",
        "colab_type": "code",
        "colab": {}
      },
      "source": [
        "\n",
        "for index, row in Y.iterrows():\n",
        "    if(row[\"class\"] == '<=50K'):\n",
        "        Y.at[index, \"class\"] = 1\n",
        "    else:\n",
        "        Y.at[index, \"class\"] = 0\n",
        "Y = np.asarray(Y).astype(np.float32)"
      ],
      "execution_count": 616,
      "outputs": []
    },
    {
      "cell_type": "markdown",
      "metadata": {
        "id": "taDyTQY7Hhyg",
        "colab_type": "text"
      },
      "source": [
        "Here, we have splitted the data into train and test with test being 20% of the whole dataset."
      ]
    },
    {
      "cell_type": "code",
      "metadata": {
        "id": "BAHdZAxPEqIN",
        "colab_type": "code",
        "colab": {}
      },
      "source": [
        "X_train,X_test,y_train,y_test = train_test_split(X,Y,test_size = 0.2)"
      ],
      "execution_count": 617,
      "outputs": []
    },
    {
      "cell_type": "markdown",
      "metadata": {
        "id": "CQgtywiHHr6P",
        "colab_type": "text"
      },
      "source": [
        "Here, we will be using keras to build out model. Hence we will be improting some libraries to build the model."
      ]
    },
    {
      "cell_type": "code",
      "metadata": {
        "id": "E7LbAqtaGkBh",
        "colab_type": "code",
        "colab": {}
      },
      "source": [
        "#Libraries required\n",
        "import keras\n",
        "from keras.models import Sequential\n",
        "from keras.layers import Dense\n",
        "# Neural network\n",
        "model = Sequential() #marks the start of model architecture\n",
        "model.add(Dense(12, input_dim=10, activation=\"relu\")) # input_dim specifies the input size and \"15\" is the number of neurons in the layer and \"relu\" will be the activation function.\n",
        "model.add(Dense(12, activation=\"relu\")) # 12 neurons and relu as activation function\n",
        "model.add(Dense(10, activation=\"relu\")) # 10 neurons and relu as activation function\n",
        "model.add(Dense(8, activation=\"relu\"))  # 8 neurons and relu as activation function\n",
        "model.add(Dense(5, activation=\"relu\"))  # 5 neurons and relu as activation function\n",
        "model.add(Dense(1, activation=\"sigmoid\")) # 1 neuron in the output layer with sigmoid as the activation fuctions as we want ouput as 0 or 1"
      ],
      "execution_count": 673,
      "outputs": []
    },
    {
      "cell_type": "code",
      "metadata": {
        "id": "R924ccycQMQz",
        "colab_type": "code",
        "colab": {}
      },
      "source": [
        "model.compile(loss='binary_crossentropy', optimizer='adam', metrics=['accuracy'])"
      ],
      "execution_count": 674,
      "outputs": []
    },
    {
      "cell_type": "markdown",
      "metadata": {
        "id": "Z07_N4qPK0hw",
        "colab_type": "text"
      },
      "source": [
        "Running the model for 100 epochs with 64 as the batch size."
      ]
    },
    {
      "cell_type": "code",
      "metadata": {
        "id": "iFYiZmcqIpca",
        "colab_type": "code",
        "colab": {
          "base_uri": "https://localhost:8080/",
          "height": 1000
        },
        "outputId": "0d474038-3db5-4817-c42f-75a30d406d99"
      },
      "source": [
        "history = model.fit(X_train, y_train,validation_data = (X_test,y_test), epochs=100, batch_size=64)"
      ],
      "execution_count": 675,
      "outputs": [
        {
          "output_type": "stream",
          "text": [
            "Epoch 1/100\n",
            "576/576 [==============================] - 1s 2ms/step - loss: 0.4407 - accuracy: 0.7915 - val_loss: 0.3511 - val_accuracy: 0.8297\n",
            "Epoch 2/100\n",
            "576/576 [==============================] - 1s 1ms/step - loss: 0.3465 - accuracy: 0.8379 - val_loss: 0.3396 - val_accuracy: 0.8358\n",
            "Epoch 3/100\n",
            "576/576 [==============================] - 1s 1ms/step - loss: 0.3394 - accuracy: 0.8406 - val_loss: 0.3364 - val_accuracy: 0.8404\n",
            "Epoch 4/100\n",
            "576/576 [==============================] - 1s 1ms/step - loss: 0.3360 - accuracy: 0.8419 - val_loss: 0.3340 - val_accuracy: 0.8388\n",
            "Epoch 5/100\n",
            "576/576 [==============================] - 1s 1ms/step - loss: 0.3339 - accuracy: 0.8430 - val_loss: 0.3332 - val_accuracy: 0.8401\n",
            "Epoch 6/100\n",
            "576/576 [==============================] - 1s 1ms/step - loss: 0.3320 - accuracy: 0.8441 - val_loss: 0.3354 - val_accuracy: 0.8416\n",
            "Epoch 7/100\n",
            "576/576 [==============================] - 1s 1ms/step - loss: 0.3307 - accuracy: 0.8449 - val_loss: 0.3304 - val_accuracy: 0.8412\n",
            "Epoch 8/100\n",
            "576/576 [==============================] - 1s 1ms/step - loss: 0.3294 - accuracy: 0.8457 - val_loss: 0.3295 - val_accuracy: 0.8419\n",
            "Epoch 9/100\n",
            "576/576 [==============================] - 1s 1ms/step - loss: 0.3286 - accuracy: 0.8454 - val_loss: 0.3299 - val_accuracy: 0.8437\n",
            "Epoch 10/100\n",
            "576/576 [==============================] - 1s 1ms/step - loss: 0.3282 - accuracy: 0.8455 - val_loss: 0.3303 - val_accuracy: 0.8421\n",
            "Epoch 11/100\n",
            "576/576 [==============================] - 1s 1ms/step - loss: 0.3275 - accuracy: 0.8451 - val_loss: 0.3284 - val_accuracy: 0.8439\n",
            "Epoch 12/100\n",
            "576/576 [==============================] - 1s 1ms/step - loss: 0.3270 - accuracy: 0.8463 - val_loss: 0.3283 - val_accuracy: 0.8440\n",
            "Epoch 13/100\n",
            "576/576 [==============================] - 1s 1ms/step - loss: 0.3266 - accuracy: 0.8465 - val_loss: 0.3283 - val_accuracy: 0.8441\n",
            "Epoch 14/100\n",
            "576/576 [==============================] - 1s 1ms/step - loss: 0.3260 - accuracy: 0.8473 - val_loss: 0.3302 - val_accuracy: 0.8435\n",
            "Epoch 15/100\n",
            "576/576 [==============================] - 1s 1ms/step - loss: 0.3257 - accuracy: 0.8467 - val_loss: 0.3306 - val_accuracy: 0.8454\n",
            "Epoch 16/100\n",
            "576/576 [==============================] - 1s 1ms/step - loss: 0.3252 - accuracy: 0.8476 - val_loss: 0.3281 - val_accuracy: 0.8452\n",
            "Epoch 17/100\n",
            "576/576 [==============================] - 1s 1ms/step - loss: 0.3250 - accuracy: 0.8471 - val_loss: 0.3293 - val_accuracy: 0.8449\n",
            "Epoch 18/100\n",
            "576/576 [==============================] - 1s 1ms/step - loss: 0.3246 - accuracy: 0.8475 - val_loss: 0.3279 - val_accuracy: 0.8456\n",
            "Epoch 19/100\n",
            "576/576 [==============================] - 1s 1ms/step - loss: 0.3242 - accuracy: 0.8482 - val_loss: 0.3275 - val_accuracy: 0.8446\n",
            "Epoch 20/100\n",
            "576/576 [==============================] - 1s 1ms/step - loss: 0.3239 - accuracy: 0.8481 - val_loss: 0.3330 - val_accuracy: 0.8436\n",
            "Epoch 21/100\n",
            "576/576 [==============================] - 1s 1ms/step - loss: 0.3237 - accuracy: 0.8484 - val_loss: 0.3272 - val_accuracy: 0.8452\n",
            "Epoch 22/100\n",
            "576/576 [==============================] - 1s 1ms/step - loss: 0.3231 - accuracy: 0.8480 - val_loss: 0.3254 - val_accuracy: 0.8469\n",
            "Epoch 23/100\n",
            "576/576 [==============================] - 1s 1ms/step - loss: 0.3229 - accuracy: 0.8480 - val_loss: 0.3275 - val_accuracy: 0.8456\n",
            "Epoch 24/100\n",
            "576/576 [==============================] - 1s 1ms/step - loss: 0.3221 - accuracy: 0.8486 - val_loss: 0.3277 - val_accuracy: 0.8444\n",
            "Epoch 25/100\n",
            "576/576 [==============================] - 1s 1ms/step - loss: 0.3215 - accuracy: 0.8486 - val_loss: 0.3245 - val_accuracy: 0.8474\n",
            "Epoch 26/100\n",
            "576/576 [==============================] - 1s 1ms/step - loss: 0.3214 - accuracy: 0.8487 - val_loss: 0.3247 - val_accuracy: 0.8475\n",
            "Epoch 27/100\n",
            "576/576 [==============================] - 1s 1ms/step - loss: 0.3207 - accuracy: 0.8492 - val_loss: 0.3245 - val_accuracy: 0.8440\n",
            "Epoch 28/100\n",
            "576/576 [==============================] - 1s 1ms/step - loss: 0.3205 - accuracy: 0.8487 - val_loss: 0.3249 - val_accuracy: 0.8469\n",
            "Epoch 29/100\n",
            "576/576 [==============================] - 1s 1ms/step - loss: 0.3203 - accuracy: 0.8497 - val_loss: 0.3242 - val_accuracy: 0.8463\n",
            "Epoch 30/100\n",
            "576/576 [==============================] - 1s 1ms/step - loss: 0.3204 - accuracy: 0.8487 - val_loss: 0.3243 - val_accuracy: 0.8476\n",
            "Epoch 31/100\n",
            "576/576 [==============================] - 1s 1ms/step - loss: 0.3196 - accuracy: 0.8503 - val_loss: 0.3238 - val_accuracy: 0.8467\n",
            "Epoch 32/100\n",
            "576/576 [==============================] - 1s 1ms/step - loss: 0.3194 - accuracy: 0.8495 - val_loss: 0.3228 - val_accuracy: 0.8462\n",
            "Epoch 33/100\n",
            "576/576 [==============================] - 1s 1ms/step - loss: 0.3195 - accuracy: 0.8493 - val_loss: 0.3239 - val_accuracy: 0.8466\n",
            "Epoch 34/100\n",
            "576/576 [==============================] - 1s 1ms/step - loss: 0.3190 - accuracy: 0.8492 - val_loss: 0.3233 - val_accuracy: 0.8473\n",
            "Epoch 35/100\n",
            "576/576 [==============================] - 1s 1ms/step - loss: 0.3189 - accuracy: 0.8502 - val_loss: 0.3216 - val_accuracy: 0.8476\n",
            "Epoch 36/100\n",
            "576/576 [==============================] - 1s 1ms/step - loss: 0.3185 - accuracy: 0.8487 - val_loss: 0.3222 - val_accuracy: 0.8472\n",
            "Epoch 37/100\n",
            "576/576 [==============================] - 1s 1ms/step - loss: 0.3179 - accuracy: 0.8495 - val_loss: 0.3231 - val_accuracy: 0.8454\n",
            "Epoch 38/100\n",
            "576/576 [==============================] - 1s 1ms/step - loss: 0.3181 - accuracy: 0.8498 - val_loss: 0.3226 - val_accuracy: 0.8459\n",
            "Epoch 39/100\n",
            "576/576 [==============================] - 1s 1ms/step - loss: 0.3174 - accuracy: 0.8504 - val_loss: 0.3232 - val_accuracy: 0.8466\n",
            "Epoch 40/100\n",
            "576/576 [==============================] - 1s 1ms/step - loss: 0.3176 - accuracy: 0.8492 - val_loss: 0.3225 - val_accuracy: 0.8474\n",
            "Epoch 41/100\n",
            "576/576 [==============================] - 1s 1ms/step - loss: 0.3173 - accuracy: 0.8487 - val_loss: 0.3230 - val_accuracy: 0.8479\n",
            "Epoch 42/100\n",
            "576/576 [==============================] - 1s 1ms/step - loss: 0.3172 - accuracy: 0.8495 - val_loss: 0.3225 - val_accuracy: 0.8454\n",
            "Epoch 43/100\n",
            "576/576 [==============================] - 1s 1ms/step - loss: 0.3168 - accuracy: 0.8493 - val_loss: 0.3225 - val_accuracy: 0.8477\n",
            "Epoch 44/100\n",
            "576/576 [==============================] - 1s 1ms/step - loss: 0.3165 - accuracy: 0.8502 - val_loss: 0.3242 - val_accuracy: 0.8458\n",
            "Epoch 45/100\n",
            "576/576 [==============================] - 1s 1ms/step - loss: 0.3163 - accuracy: 0.8504 - val_loss: 0.3231 - val_accuracy: 0.8477\n",
            "Epoch 46/100\n",
            "576/576 [==============================] - 1s 1ms/step - loss: 0.3164 - accuracy: 0.8496 - val_loss: 0.3228 - val_accuracy: 0.8482\n",
            "Epoch 47/100\n",
            "576/576 [==============================] - 1s 1ms/step - loss: 0.3168 - accuracy: 0.8489 - val_loss: 0.3220 - val_accuracy: 0.8484\n",
            "Epoch 48/100\n",
            "576/576 [==============================] - 1s 1ms/step - loss: 0.3161 - accuracy: 0.8502 - val_loss: 0.3205 - val_accuracy: 0.8483\n",
            "Epoch 49/100\n",
            "576/576 [==============================] - 1s 1ms/step - loss: 0.3162 - accuracy: 0.8506 - val_loss: 0.3217 - val_accuracy: 0.8484\n",
            "Epoch 50/100\n",
            "576/576 [==============================] - 1s 1ms/step - loss: 0.3152 - accuracy: 0.8512 - val_loss: 0.3221 - val_accuracy: 0.8460\n",
            "Epoch 51/100\n",
            "576/576 [==============================] - 1s 1ms/step - loss: 0.3156 - accuracy: 0.8498 - val_loss: 0.3223 - val_accuracy: 0.8482\n",
            "Epoch 52/100\n",
            "576/576 [==============================] - 1s 1ms/step - loss: 0.3152 - accuracy: 0.8509 - val_loss: 0.3200 - val_accuracy: 0.8477\n",
            "Epoch 53/100\n",
            "576/576 [==============================] - 1s 1ms/step - loss: 0.3153 - accuracy: 0.8507 - val_loss: 0.3215 - val_accuracy: 0.8475\n",
            "Epoch 54/100\n",
            "576/576 [==============================] - 1s 1ms/step - loss: 0.3154 - accuracy: 0.8503 - val_loss: 0.3222 - val_accuracy: 0.8478\n",
            "Epoch 55/100\n",
            "576/576 [==============================] - 1s 1ms/step - loss: 0.3150 - accuracy: 0.8510 - val_loss: 0.3229 - val_accuracy: 0.8461\n",
            "Epoch 56/100\n",
            "576/576 [==============================] - 1s 1ms/step - loss: 0.3146 - accuracy: 0.8505 - val_loss: 0.3209 - val_accuracy: 0.8470\n",
            "Epoch 57/100\n",
            "576/576 [==============================] - 1s 1ms/step - loss: 0.3147 - accuracy: 0.8512 - val_loss: 0.3193 - val_accuracy: 0.8501\n",
            "Epoch 58/100\n",
            "576/576 [==============================] - 1s 1ms/step - loss: 0.3145 - accuracy: 0.8514 - val_loss: 0.3201 - val_accuracy: 0.8473\n",
            "Epoch 59/100\n",
            "576/576 [==============================] - 1s 1ms/step - loss: 0.3147 - accuracy: 0.8508 - val_loss: 0.3235 - val_accuracy: 0.8477\n",
            "Epoch 60/100\n",
            "576/576 [==============================] - 1s 1ms/step - loss: 0.3147 - accuracy: 0.8506 - val_loss: 0.3211 - val_accuracy: 0.8482\n",
            "Epoch 61/100\n",
            "576/576 [==============================] - 1s 1ms/step - loss: 0.3144 - accuracy: 0.8512 - val_loss: 0.3219 - val_accuracy: 0.8478\n",
            "Epoch 62/100\n",
            "576/576 [==============================] - 1s 1ms/step - loss: 0.3142 - accuracy: 0.8506 - val_loss: 0.3205 - val_accuracy: 0.8496\n",
            "Epoch 63/100\n",
            "576/576 [==============================] - 1s 1ms/step - loss: 0.3145 - accuracy: 0.8509 - val_loss: 0.3206 - val_accuracy: 0.8481\n",
            "Epoch 64/100\n",
            "576/576 [==============================] - 1s 1ms/step - loss: 0.3138 - accuracy: 0.8512 - val_loss: 0.3220 - val_accuracy: 0.8470\n",
            "Epoch 65/100\n",
            "576/576 [==============================] - 1s 1ms/step - loss: 0.3141 - accuracy: 0.8518 - val_loss: 0.3199 - val_accuracy: 0.8485\n",
            "Epoch 66/100\n",
            "576/576 [==============================] - 1s 1ms/step - loss: 0.3140 - accuracy: 0.8517 - val_loss: 0.3196 - val_accuracy: 0.8482\n",
            "Epoch 67/100\n",
            "576/576 [==============================] - 1s 1ms/step - loss: 0.3137 - accuracy: 0.8520 - val_loss: 0.3223 - val_accuracy: 0.8489\n",
            "Epoch 68/100\n",
            "576/576 [==============================] - 1s 1ms/step - loss: 0.3137 - accuracy: 0.8515 - val_loss: 0.3204 - val_accuracy: 0.8449\n",
            "Epoch 69/100\n",
            "576/576 [==============================] - 1s 1ms/step - loss: 0.3139 - accuracy: 0.8509 - val_loss: 0.3193 - val_accuracy: 0.8487\n",
            "Epoch 70/100\n",
            "576/576 [==============================] - 1s 1ms/step - loss: 0.3137 - accuracy: 0.8508 - val_loss: 0.3203 - val_accuracy: 0.8465\n",
            "Epoch 71/100\n",
            "576/576 [==============================] - 1s 1ms/step - loss: 0.3137 - accuracy: 0.8510 - val_loss: 0.3200 - val_accuracy: 0.8482\n",
            "Epoch 72/100\n",
            "576/576 [==============================] - 1s 2ms/step - loss: 0.3135 - accuracy: 0.8512 - val_loss: 0.3206 - val_accuracy: 0.8475\n",
            "Epoch 73/100\n",
            "576/576 [==============================] - 1s 2ms/step - loss: 0.3137 - accuracy: 0.8513 - val_loss: 0.3201 - val_accuracy: 0.8488\n",
            "Epoch 74/100\n",
            "576/576 [==============================] - 1s 2ms/step - loss: 0.3133 - accuracy: 0.8515 - val_loss: 0.3195 - val_accuracy: 0.8489\n",
            "Epoch 75/100\n",
            "576/576 [==============================] - 1s 2ms/step - loss: 0.3134 - accuracy: 0.8516 - val_loss: 0.3196 - val_accuracy: 0.8498\n",
            "Epoch 76/100\n",
            "576/576 [==============================] - 1s 2ms/step - loss: 0.3134 - accuracy: 0.8517 - val_loss: 0.3196 - val_accuracy: 0.8494\n",
            "Epoch 77/100\n",
            "576/576 [==============================] - 1s 2ms/step - loss: 0.3132 - accuracy: 0.8517 - val_loss: 0.3207 - val_accuracy: 0.8494\n",
            "Epoch 78/100\n",
            "576/576 [==============================] - 1s 1ms/step - loss: 0.3130 - accuracy: 0.8522 - val_loss: 0.3195 - val_accuracy: 0.8484\n",
            "Epoch 79/100\n",
            "576/576 [==============================] - 1s 1ms/step - loss: 0.3132 - accuracy: 0.8518 - val_loss: 0.3185 - val_accuracy: 0.8475\n",
            "Epoch 80/100\n",
            "576/576 [==============================] - 1s 1ms/step - loss: 0.3128 - accuracy: 0.8515 - val_loss: 0.3209 - val_accuracy: 0.8501\n",
            "Epoch 81/100\n",
            "576/576 [==============================] - 1s 1ms/step - loss: 0.3131 - accuracy: 0.8517 - val_loss: 0.3199 - val_accuracy: 0.8483\n",
            "Epoch 82/100\n",
            "576/576 [==============================] - 1s 1ms/step - loss: 0.3128 - accuracy: 0.8511 - val_loss: 0.3193 - val_accuracy: 0.8494\n",
            "Epoch 83/100\n",
            "576/576 [==============================] - 1s 1ms/step - loss: 0.3129 - accuracy: 0.8516 - val_loss: 0.3187 - val_accuracy: 0.8487\n",
            "Epoch 84/100\n",
            "576/576 [==============================] - 1s 1ms/step - loss: 0.3126 - accuracy: 0.8523 - val_loss: 0.3187 - val_accuracy: 0.8503\n",
            "Epoch 85/100\n",
            "576/576 [==============================] - 1s 1ms/step - loss: 0.3130 - accuracy: 0.8510 - val_loss: 0.3200 - val_accuracy: 0.8488\n",
            "Epoch 86/100\n",
            "576/576 [==============================] - 1s 1ms/step - loss: 0.3128 - accuracy: 0.8508 - val_loss: 0.3175 - val_accuracy: 0.8496\n",
            "Epoch 87/100\n",
            "576/576 [==============================] - 1s 1ms/step - loss: 0.3126 - accuracy: 0.8523 - val_loss: 0.3191 - val_accuracy: 0.8483\n",
            "Epoch 88/100\n",
            "576/576 [==============================] - 1s 1ms/step - loss: 0.3127 - accuracy: 0.8517 - val_loss: 0.3194 - val_accuracy: 0.8510\n",
            "Epoch 89/100\n",
            "576/576 [==============================] - 1s 2ms/step - loss: 0.3125 - accuracy: 0.8513 - val_loss: 0.3186 - val_accuracy: 0.8487\n",
            "Epoch 90/100\n",
            "576/576 [==============================] - 1s 1ms/step - loss: 0.3125 - accuracy: 0.8525 - val_loss: 0.3186 - val_accuracy: 0.8511\n",
            "Epoch 91/100\n",
            "576/576 [==============================] - 1s 1ms/step - loss: 0.3125 - accuracy: 0.8526 - val_loss: 0.3193 - val_accuracy: 0.8495\n",
            "Epoch 92/100\n",
            "576/576 [==============================] - 1s 1ms/step - loss: 0.3125 - accuracy: 0.8520 - val_loss: 0.3207 - val_accuracy: 0.8497\n",
            "Epoch 93/100\n",
            "576/576 [==============================] - 1s 1ms/step - loss: 0.3121 - accuracy: 0.8515 - val_loss: 0.3192 - val_accuracy: 0.8507\n",
            "Epoch 94/100\n",
            "576/576 [==============================] - 1s 1ms/step - loss: 0.3127 - accuracy: 0.8510 - val_loss: 0.3203 - val_accuracy: 0.8487\n",
            "Epoch 95/100\n",
            "576/576 [==============================] - 1s 1ms/step - loss: 0.3119 - accuracy: 0.8525 - val_loss: 0.3181 - val_accuracy: 0.8508\n",
            "Epoch 96/100\n",
            "576/576 [==============================] - 1s 1ms/step - loss: 0.3125 - accuracy: 0.8523 - val_loss: 0.3216 - val_accuracy: 0.8491\n",
            "Epoch 97/100\n",
            "576/576 [==============================] - 1s 1ms/step - loss: 0.3122 - accuracy: 0.8519 - val_loss: 0.3184 - val_accuracy: 0.8482\n",
            "Epoch 98/100\n",
            "576/576 [==============================] - 1s 1ms/step - loss: 0.3119 - accuracy: 0.8518 - val_loss: 0.3188 - val_accuracy: 0.8507\n",
            "Epoch 99/100\n",
            "576/576 [==============================] - 1s 1ms/step - loss: 0.3121 - accuracy: 0.8530 - val_loss: 0.3189 - val_accuracy: 0.8495\n",
            "Epoch 100/100\n",
            "576/576 [==============================] - 1s 1ms/step - loss: 0.3118 - accuracy: 0.8512 - val_loss: 0.3189 - val_accuracy: 0.8500\n"
          ],
          "name": "stdout"
        }
      ]
    },
    {
      "cell_type": "markdown",
      "metadata": {
        "id": "Q3oQb9AOK-RX",
        "colab_type": "text"
      },
      "source": [
        "Plotting the train and validation accuracy."
      ]
    },
    {
      "cell_type": "code",
      "metadata": {
        "id": "ZzqTKaiAIut-",
        "colab_type": "code",
        "colab": {
          "base_uri": "https://localhost:8080/",
          "height": 295
        },
        "outputId": "d6f6feea-fc0b-4924-80f3-44163efec8e4"
      },
      "source": [
        "import matplotlib.pyplot as plt\n",
        "plt.plot(history.history['accuracy'])\n",
        "plt.plot(history.history['val_accuracy'])\n",
        "plt.title('Model accuracy')\n",
        "plt.ylabel('Accuracy')\n",
        "plt.xlabel('Epoch')\n",
        "plt.legend(['Train', 'Test'], loc='upper left')\n",
        "plt.show()"
      ],
      "execution_count": 676,
      "outputs": [
        {
          "output_type": "display_data",
          "data": {
            "image/png": "[encoded data removed]",
            "text/plain": [
              "<Figure size 432x288 with 1 Axes>"
            ]
          },
          "metadata": {
            "tags": [],
            "needs_background": "light"
          }
        }
      ]
    },
    {
      "cell_type": "markdown",
      "metadata": {
        "id": "kbnr981qLEr4",
        "colab_type": "text"
      },
      "source": [
        "Plotting the train and validation loss."
      ]
    },
    {
      "cell_type": "code",
      "metadata": {
        "id": "V_hKlFJZOlk5",
        "colab_type": "code",
        "colab": {
          "base_uri": "https://localhost:8080/",
          "height": 295
        },
        "outputId": "2fe46437-59a3-4bf4-b795-841cab61eb42"
      },
      "source": [
        "plt.plot(history.history['loss']) \n",
        "plt.plot(history.history['val_loss']) \n",
        "plt.title('Model loss') \n",
        "plt.ylabel('Loss') \n",
        "plt.xlabel('Epoch') \n",
        "plt.legend(['Train', 'Test'], loc='upper left') \n",
        "plt.show()"
      ],
      "execution_count": 677,
      "outputs": [
        {
          "output_type": "display_data",
          "data": {
            "image/png": "[encoded data removed]",
            "text/plain": [
              "<Figure size 432x288 with 1 Axes>"
            ]
          },
          "metadata": {
            "tags": [],
            "needs_background": "light"
          }
        }
      ]
    },
    {
      "cell_type": "code",
      "metadata": {
        "id": "Eeuqh6OCvSJz",
        "colab_type": "code",
        "colab": {}
      },
      "source": [
        ""
      ],
      "execution_count": 672,
      "outputs": []
    }
  ]
}